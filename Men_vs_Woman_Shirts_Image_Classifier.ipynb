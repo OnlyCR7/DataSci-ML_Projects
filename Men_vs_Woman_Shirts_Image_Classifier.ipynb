{
  "nbformat": 4,
  "nbformat_minor": 0,
  "metadata": {
    "colab": {
      "provenance": []
    },
    "kernelspec": {
      "name": "python3",
      "display_name": "Python 3"
    },
    "language_info": {
      "name": "python"
    }
  },
  "cells": [
    {
      "cell_type": "code",
      "execution_count": null,
      "metadata": {
        "id": "K-1YRKSFsMsf"
      },
      "outputs": [],
      "source": [
        "#!pip install bing-image-downloader"
      ]
    },
    {
      "cell_type": "code",
      "source": [
        "import numpy as np\n",
        "from bing_image_downloader import downloader\n",
        "from matplotlib import pyplot as plt\n",
        "import os\n",
        "from skimage.io import imread\n",
        "from skimage.transform import resize\n",
        "from sklearn.model_selection import train_test_split\n",
        "from sklearn.model_selection import GridSearchCV\n",
        "from sklearn.metrics import accuracy_score , confusion_matrix\n",
        "from sklearn import svm\n",
        "import pickle"
      ],
      "metadata": {
        "id": "g4zz_9bWsmZ8"
      },
      "execution_count": null,
      "outputs": []
    },
    {
      "cell_type": "code",
      "source": [
        "#!mkdir images"
      ],
      "metadata": {
        "id": "ygwW3rGytV6I"
      },
      "execution_count": null,
      "outputs": []
    },
    {
      "cell_type": "code",
      "source": [
        "#!rm -r images"
      ],
      "metadata": {
        "id": "OYHSBLWM994j"
      },
      "execution_count": null,
      "outputs": []
    },
    {
      "cell_type": "code",
      "source": [
        "#downloader.download('Mens Dress Shirts' , limit= 20 , output_dir= '/content/images' , adult_filter_off= True)\n",
        "#downloader.download('Womens T-Shirts' , limit= 20 , output_dir= '/content/images' , adult_filter_off= True)"
      ],
      "metadata": {
        "id": "uY-TJwVVtC1V"
      },
      "execution_count": null,
      "outputs": []
    },
    {
      "cell_type": "code",
      "source": [
        "DATADIR = '/content/images'\n",
        "CATEGORYS = ['Mens Dress Shirts' , 'Womens T-Shirts']\n",
        "flat_data = []\n",
        "images = []\n",
        "target = []"
      ],
      "metadata": {
        "id": "O8kYrYsCu1ci"
      },
      "execution_count": null,
      "outputs": []
    },
    {
      "cell_type": "code",
      "source": [
        "for category in CATEGORYS :\n",
        "  category_arr = CATEGORYS.index(category)\n",
        "  path = os.path.join(DATADIR , category)\n",
        "  for img in os.listdir(path) :\n",
        "    image_arr = imread(os.path.join(path , img))\n",
        "    img_resized = resize(image_arr , (150,150,3))\n",
        "    flat_data.append(img_resized.flatten())\n",
        "    images.append(img_resized)\n",
        "    target.append(category_arr)\n",
        "\n",
        "flat_data = np.array(flat_data)\n",
        "images = np.array(images)\n",
        "target = np.array(target)"
      ],
      "metadata": {
        "id": "FUevwKp-x1Cd"
      },
      "execution_count": null,
      "outputs": []
    },
    {
      "cell_type": "code",
      "source": [
        "#print(flat_data)"
      ],
      "metadata": {
        "id": "6BHklWlnzO_Y"
      },
      "execution_count": null,
      "outputs": []
    },
    {
      "cell_type": "code",
      "source": [
        "#print(images)"
      ],
      "metadata": {
        "id": "5iviIMiD2DO1"
      },
      "execution_count": null,
      "outputs": []
    },
    {
      "cell_type": "code",
      "source": [
        "#print(target)"
      ],
      "metadata": {
        "id": "y260T6uR2gpo"
      },
      "execution_count": null,
      "outputs": []
    },
    {
      "cell_type": "code",
      "source": [
        "X_train , X_test , Y_train , Y_test = train_test_split(flat_data , target  ,test_size=0.3 , random_state= 29)"
      ],
      "metadata": {
        "id": "mu4jTRHu2jX4"
      },
      "execution_count": null,
      "outputs": []
    },
    {
      "cell_type": "code",
      "source": [
        "param_grid = [\n",
        "    {'C':[1,10,100,1000] , 'kernel':['linear']},\n",
        "    {'C':[1,10,100,1000] , 'kernel':['rbf'] , 'gamma':[0.001,0.0001]}\n",
        "]"
      ],
      "metadata": {
        "id": "tHcL5a9z3Ea0"
      },
      "execution_count": null,
      "outputs": []
    },
    {
      "cell_type": "code",
      "source": [
        "svc = svm.SVC(probability= True)"
      ],
      "metadata": {
        "id": "_Bpse-Fy3LWl"
      },
      "execution_count": null,
      "outputs": []
    },
    {
      "cell_type": "code",
      "source": [
        "clf = GridSearchCV(svc , param_grid)"
      ],
      "metadata": {
        "id": "eeeiw0Bh9XCf"
      },
      "execution_count": null,
      "outputs": []
    },
    {
      "cell_type": "code",
      "source": [
        "clf.fit(X_train , Y_train)"
      ],
      "metadata": {
        "id": "I10z3hbK9jPA"
      },
      "execution_count": null,
      "outputs": []
    },
    {
      "cell_type": "code",
      "source": [
        "Y_pred = clf.predict(X_test)"
      ],
      "metadata": {
        "id": "uTf0u0vQBqb0"
      },
      "execution_count": null,
      "outputs": []
    },
    {
      "cell_type": "code",
      "source": [
        "score = accuracy_score(Y_pred , Y_test)\n",
        "print(score)"
      ],
      "metadata": {
        "id": "4enYEJU89rXp"
      },
      "execution_count": null,
      "outputs": []
    },
    {
      "cell_type": "code",
      "source": [
        "con_matrix = confusion_matrix(Y_pred , Y_test)\n",
        "print(con_matrix)"
      ],
      "metadata": {
        "id": "P6rbcM8eCAn3"
      },
      "execution_count": null,
      "outputs": []
    },
    {
      "cell_type": "code",
      "source": [
        "pickle.dump(clf , open('img_model.p' , 'wb'))"
      ],
      "metadata": {
        "id": "TSPLDizyCamy"
      },
      "execution_count": null,
      "outputs": []
    },
    {
      "cell_type": "code",
      "source": [
        "model = pickle.load(open('img_model.p' , 'rb'))"
      ],
      "metadata": {
        "id": "QBQo0UGLDZTv"
      },
      "execution_count": null,
      "outputs": []
    },
    {
      "cell_type": "code",
      "source": [
        "tflat_data = []"
      ],
      "metadata": {
        "id": "6eBSbMMmHm-X"
      },
      "execution_count": null,
      "outputs": []
    },
    {
      "cell_type": "code",
      "source": [
        "url = input(\"Enter your url :\")\n",
        "timg = imread(url)"
      ],
      "metadata": {
        "id": "ZXf49DeEHomd"
      },
      "execution_count": null,
      "outputs": []
    },
    {
      "cell_type": "code",
      "source": [
        "timg_resized = resize(timg , (150,150,3))"
      ],
      "metadata": {
        "id": "v2n5bB_wHtuW"
      },
      "execution_count": null,
      "outputs": []
    },
    {
      "cell_type": "code",
      "source": [
        "tflat_data.append(timg_resized.flatten())"
      ],
      "metadata": {
        "id": "8yiGbcCpHw3X"
      },
      "execution_count": null,
      "outputs": []
    },
    {
      "cell_type": "code",
      "source": [
        "tflat_data = np.array(tflat_data)"
      ],
      "metadata": {
        "id": "em_T6I_tHzB3"
      },
      "execution_count": null,
      "outputs": []
    },
    {
      "cell_type": "code",
      "source": [
        "plt.imshow(timg_resized)\n",
        "plt.show()"
      ],
      "metadata": {
        "id": "KjOy2KB9H1cY"
      },
      "execution_count": null,
      "outputs": []
    },
    {
      "cell_type": "code",
      "source": [
        "pred_out = model.predict(tflat_data)"
      ],
      "metadata": {
        "id": "ZRD5422OH3gP"
      },
      "execution_count": null,
      "outputs": []
    },
    {
      "cell_type": "code",
      "source": [
        "pred_out = CATEGORYS[pred_out[0]]"
      ],
      "metadata": {
        "id": "Tw-z-B84LNW2"
      },
      "execution_count": null,
      "outputs": []
    },
    {
      "cell_type": "code",
      "source": [
        "print(f'Predicted Output : {pred_out}')"
      ],
      "metadata": {
        "id": "3voEqTAzD-C0"
      },
      "execution_count": null,
      "outputs": []
    }
  ]
}