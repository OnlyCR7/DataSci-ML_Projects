{
  "cells": [
    {
      "cell_type": "code",
      "execution_count": null,
      "metadata": {
        "id": "K-1YRKSFsMsf"
      },
      "outputs": [],
      "source": [
        "!pip install bing-image-downloader"
      ]
    },
    {
      "cell_type": "code",
      "execution_count": null,
      "metadata": {
        "id": "g4zz_9bWsmZ8"
      },
      "outputs": [],
      "source": [
        "import numpy as np\n",
        "from bing_image_downloader import downloader\n",
        "from matplotlib import pyplot as plt\n",
        "import os\n",
        "from skimage.io import imread\n",
        "from skimage.transform import resize\n",
        "from sklearn.model_selection import train_test_split\n",
        "from sklearn.model_selection import GridSearchCV\n",
        "from sklearn.metrics import accuracy_score , confusion_matrix\n",
        "from sklearn import svm\n",
        "import pickle"
      ]
    },
    {
      "cell_type": "code",
      "execution_count": null,
      "metadata": {
        "id": "ygwW3rGytV6I"
      },
      "outputs": [],
      "source": [
        "#!mkdir images"
      ]
    },
    {
      "cell_type": "code",
      "execution_count": null,
      "metadata": {
        "id": "OYHSBLWM994j"
      },
      "outputs": [],
      "source": [
        "#!rm -r images"
      ]
    },
    {
      "cell_type": "code",
      "execution_count": null,
      "metadata": {
        "id": "uY-TJwVVtC1V"
      },
      "outputs": [],
      "source": [
        "#downloader.download('Mens Dress Shirts' , limit= 20 , output_dir= '/content/images' , adult_filter_off= True)\n",
        "#downloader.download('Womens T-Shirts' , limit= 20 , output_dir= '/content/images' , adult_filter_off= True)"
      ]
    },
    {
      "cell_type": "code",
      "execution_count": null,
      "metadata": {
        "id": "O8kYrYsCu1ci"
      },
      "outputs": [],
      "source": [
        "DATADIR = '/content/images'\n",
        "CATEGORYS = ['Mens Dress Shirts' , 'Womens T-Shirts']\n",
        "flat_data = []\n",
        "images = []\n",
        "target = []"
      ]
    },
    {
      "cell_type": "code",
      "execution_count": null,
      "metadata": {
        "id": "FUevwKp-x1Cd"
      },
      "outputs": [],
      "source": [
        "for category in CATEGORYS :\n",
        "  category_arr = CATEGORYS.index(category)\n",
        "  path = os.path.join(DATADIR , category)\n",
        "  for img in os.listdir(path) :\n",
        "    image_arr = imread(os.path.join(path , img))\n",
        "    img_resized = resize(image_arr , (150,150,3))\n",
        "    flat_data.append(img_resized.flatten())\n",
        "    images.append(img_resized)\n",
        "    target.append(category_arr)\n",
        "\n",
        "flat_data = np.array(flat_data)\n",
        "images = np.array(images)\n",
        "target = np.array(target)"
      ]
    },
    {
      "cell_type": "code",
      "execution_count": null,
      "metadata": {
        "id": "6BHklWlnzO_Y"
      },
      "outputs": [],
      "source": [
        "#print(flat_data)"
      ]
    },
    {
      "cell_type": "code",
      "execution_count": null,
      "metadata": {
        "id": "5iviIMiD2DO1"
      },
      "outputs": [],
      "source": [
        "#print(images)"
      ]
    },
    {
      "cell_type": "code",
      "execution_count": null,
      "metadata": {
        "id": "y260T6uR2gpo"
      },
      "outputs": [],
      "source": [
        "#print(target)"
      ]
    },
    {
      "cell_type": "code",
      "execution_count": null,
      "metadata": {
        "id": "mu4jTRHu2jX4"
      },
      "outputs": [],
      "source": [
        "X_train , X_test , Y_train , Y_test = train_test_split(flat_data , target  ,test_size=0.3 , random_state= 29)"
      ]
    },
    {
      "cell_type": "code",
      "execution_count": null,
      "metadata": {
        "id": "tHcL5a9z3Ea0"
      },
      "outputs": [],
      "source": [
        "param_grid = [\n",
        "    {'C':[1,10,100,1000] , 'kernel':['linear']},\n",
        "    {'C':[1,10,100,1000] , 'kernel':['rbf'] , 'gamma':[0.001,0.0001]}\n",
        "]"
      ]
    },
    {
      "cell_type": "code",
      "execution_count": null,
      "metadata": {
        "id": "_Bpse-Fy3LWl"
      },
      "outputs": [],
      "source": [
        "svc = svm.SVC(probability= True)"
      ]
    },
    {
      "cell_type": "code",
      "execution_count": null,
      "metadata": {
        "id": "eeeiw0Bh9XCf"
      },
      "outputs": [],
      "source": [
        "clf = GridSearchCV(svc , param_grid)"
      ]
    },
    {
      "cell_type": "code",
      "execution_count": null,
      "metadata": {
        "id": "I10z3hbK9jPA"
      },
      "outputs": [],
      "source": [
        "clf.fit(X_train , Y_train)"
      ]
    },
    {
      "cell_type": "code",
      "execution_count": null,
      "metadata": {
        "id": "uTf0u0vQBqb0"
      },
      "outputs": [],
      "source": [
        "Y_pred = clf.predict(X_test)"
      ]
    },
    {
      "cell_type": "code",
      "execution_count": null,
      "metadata": {
        "id": "4enYEJU89rXp"
      },
      "outputs": [],
      "source": [
        "score = accuracy_score(Y_pred , Y_test)\n",
        "print(score)"
      ]
    },
    {
      "cell_type": "code",
      "execution_count": null,
      "metadata": {
        "id": "P6rbcM8eCAn3"
      },
      "outputs": [],
      "source": [
        "con_matrix = confusion_matrix(Y_pred , Y_test)\n",
        "print(con_matrix)"
      ]
    },
    {
      "cell_type": "code",
      "execution_count": null,
      "metadata": {
        "id": "TSPLDizyCamy"
      },
      "outputs": [],
      "source": [
        "pickle.dump(clf , open('img_model.p' , 'wb'))"
      ]
    },
    {
      "cell_type": "code",
      "execution_count": null,
      "metadata": {
        "id": "QBQo0UGLDZTv"
      },
      "outputs": [],
      "source": [
        "model = pickle.load(open('img_model.p' , 'rb'))"
      ]
    },
    {
      "cell_type": "code",
      "execution_count": null,
      "metadata": {
        "id": "6eBSbMMmHm-X"
      },
      "outputs": [],
      "source": [
        "tflat_data = []"
      ]
    },
    {
      "cell_type": "code",
      "execution_count": null,
      "metadata": {
        "id": "ZXf49DeEHomd"
      },
      "outputs": [],
      "source": [
        "url = input(\"Enter your url :\")\n",
        "timg = imread(url)"
      ]
    },
    {
      "cell_type": "code",
      "execution_count": null,
      "metadata": {
        "id": "v2n5bB_wHtuW"
      },
      "outputs": [],
      "source": [
        "timg_resized = resize(timg , (150,150,3))"
      ]
    },
    {
      "cell_type": "code",
      "execution_count": null,
      "metadata": {
        "id": "8yiGbcCpHw3X"
      },
      "outputs": [],
      "source": [
        "tflat_data.append(timg_resized.flatten())"
      ]
    },
    {
      "cell_type": "code",
      "execution_count": null,
      "metadata": {
        "id": "em_T6I_tHzB3"
      },
      "outputs": [],
      "source": [
        "tflat_data = np.array(tflat_data)"
      ]
    },
    {
      "cell_type": "code",
      "execution_count": null,
      "metadata": {
        "id": "KjOy2KB9H1cY"
      },
      "outputs": [],
      "source": [
        "plt.imshow(timg_resized)\n",
        "plt.show()"
      ]
    },
    {
      "cell_type": "code",
      "execution_count": null,
      "metadata": {
        "id": "ZRD5422OH3gP"
      },
      "outputs": [],
      "source": [
        "pred_out = model.predict(tflat_data)"
      ]
    },
    {
      "cell_type": "code",
      "execution_count": null,
      "metadata": {
        "id": "Tw-z-B84LNW2"
      },
      "outputs": [],
      "source": [
        "pred_out = CATEGORYS[pred_out[0]]"
      ]
    },
    {
      "cell_type": "code",
      "execution_count": null,
      "metadata": {
        "id": "3voEqTAzD-C0"
      },
      "outputs": [],
      "source": [
        "print(f'Predicted Output : {pred_out}')"
      ]
    }
  ],
  "metadata": {
    "colab": {
      "provenance": []
    },
    "kernelspec": {
      "display_name": "Python 3",
      "name": "python3"
    },
    "language_info": {
      "name": "python"
    }
  },
  "nbformat": 4,
  "nbformat_minor": 0
}
